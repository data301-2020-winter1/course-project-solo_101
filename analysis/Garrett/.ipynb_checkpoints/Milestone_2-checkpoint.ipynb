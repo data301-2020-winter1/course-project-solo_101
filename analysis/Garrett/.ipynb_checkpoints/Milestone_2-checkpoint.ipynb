{
 "cells": [
  {
   "cell_type": "code",
   "execution_count": 2,
   "metadata": {},
   "outputs": [],
   "source": [
    "import pandas as p\n",
    "data=p.read_csv('ftp://sidads.colorado.edu/pub/DATASETS/NOAA/G01130/wgi_feb2012.csv',encoding = 'ANSI')"
   ]
  },
  {
   "cell_type": "code",
   "execution_count": null,
   "metadata": {},
   "outputs": [],
   "source": [
    "data.head(1000000)"
   ]
  },
  {
   "cell_type": "markdown",
   "metadata": {},
   "source": [
    "# Markdown Fun\n",
    "\n",
    "---\n",
    "## Details of Glaciers in world"
   ]
  },
  {
   "cell_type": "markdown",
   "metadata": {},
   "source": [
    "* **Count:**"
   ]
  },
  {
   "cell_type": "code",
   "execution_count": null,
   "metadata": {},
   "outputs": [],
   "source": [
    "data[\"wgi_glacier_id\"].count()"
   ]
  },
  {
   "cell_type": "markdown",
   "metadata": {},
   "source": [
    "* *Mean by Continent Code*"
   ]
  },
  {
   "cell_type": "code",
   "execution_count": null,
   "metadata": {},
   "outputs": [],
   "source": [
    "data.groupby('continent_code').wgi_glacier_id.count().reset_index()"
   ]
  },
  {
   "cell_type": "markdown",
   "metadata": {},
   "source": [
    "---"
   ]
  },
  {
   "cell_type": "markdown",
   "metadata": {},
   "source": [
    "# Method Chaining\n",
    "---"
   ]
  },
  {
   "cell_type": "code",
   "execution_count": 5,
   "metadata": {},
   "outputs": [
    {
     "data": {
      "text/html": [
       "<div>\n",
       "<style scoped>\n",
       "    .dataframe tbody tr th:only-of-type {\n",
       "        vertical-align: middle;\n",
       "    }\n",
       "\n",
       "    .dataframe tbody tr th {\n",
       "        vertical-align: top;\n",
       "    }\n",
       "\n",
       "    .dataframe thead th {\n",
       "        text-align: right;\n",
       "    }\n",
       "</style>\n",
       "<table border=\"1\" class=\"dataframe\">\n",
       "  <thead>\n",
       "    <tr style=\"text-align: right;\">\n",
       "      <th></th>\n",
       "      <th>index</th>\n",
       "      <th>tongue_activity</th>\n",
       "      <th>Glacier ID</th>\n",
       "      <th>Country</th>\n",
       "      <th>continent_code</th>\n",
       "      <th>lat</th>\n",
       "      <th>lon</th>\n",
       "      <th>orientation_acc</th>\n",
       "      <th>orientation_abl</th>\n",
       "      <th>source_nourish</th>\n",
       "      <th>mean_elev</th>\n",
       "    </tr>\n",
       "  </thead>\n",
       "  <tbody>\n",
       "    <tr>\n",
       "      <th>0</th>\n",
       "      <td>0</td>\n",
       "      <td>0.0</td>\n",
       "      <td>AF5Q112B0009</td>\n",
       "      <td>AF</td>\n",
       "      <td>5</td>\n",
       "      <td>34.807</td>\n",
       "      <td>68.891</td>\n",
       "      <td>N</td>\n",
       "      <td>NW</td>\n",
       "      <td>0.0</td>\n",
       "      <td>3925.0</td>\n",
       "    </tr>\n",
       "    <tr>\n",
       "      <th>1</th>\n",
       "      <td>1</td>\n",
       "      <td>0.0</td>\n",
       "      <td>AF5Q112C0025</td>\n",
       "      <td>AF</td>\n",
       "      <td>5</td>\n",
       "      <td>35.438</td>\n",
       "      <td>69.552</td>\n",
       "      <td>S</td>\n",
       "      <td>S</td>\n",
       "      <td>0.0</td>\n",
       "      <td>4540.0</td>\n",
       "    </tr>\n",
       "    <tr>\n",
       "      <th>2</th>\n",
       "      <td>2</td>\n",
       "      <td>0.0</td>\n",
       "      <td>AF5Q112C0085</td>\n",
       "      <td>AF</td>\n",
       "      <td>5</td>\n",
       "      <td>35.869</td>\n",
       "      <td>70.224</td>\n",
       "      <td>SW</td>\n",
       "      <td>W</td>\n",
       "      <td>0.0</td>\n",
       "      <td>4700.0</td>\n",
       "    </tr>\n",
       "    <tr>\n",
       "      <th>3</th>\n",
       "      <td>3</td>\n",
       "      <td>0.0</td>\n",
       "      <td>AF5Q112C0146</td>\n",
       "      <td>AF</td>\n",
       "      <td>5</td>\n",
       "      <td>35.458</td>\n",
       "      <td>70.023</td>\n",
       "      <td>NW</td>\n",
       "      <td>NW</td>\n",
       "      <td>0.0</td>\n",
       "      <td>4113.0</td>\n",
       "    </tr>\n",
       "    <tr>\n",
       "      <th>4</th>\n",
       "      <td>4</td>\n",
       "      <td>0.0</td>\n",
       "      <td>AF5Q112C0151</td>\n",
       "      <td>AF</td>\n",
       "      <td>5</td>\n",
       "      <td>35.409</td>\n",
       "      <td>69.959</td>\n",
       "      <td>N</td>\n",
       "      <td>NE</td>\n",
       "      <td>0.0</td>\n",
       "      <td>4550.0</td>\n",
       "    </tr>\n",
       "    <tr>\n",
       "      <th>...</th>\n",
       "      <td>...</td>\n",
       "      <td>...</td>\n",
       "      <td>...</td>\n",
       "      <td>...</td>\n",
       "      <td>...</td>\n",
       "      <td>...</td>\n",
       "      <td>...</td>\n",
       "      <td>...</td>\n",
       "      <td>...</td>\n",
       "      <td>...</td>\n",
       "      <td>...</td>\n",
       "    </tr>\n",
       "    <tr>\n",
       "      <th>81558</th>\n",
       "      <td>81558</td>\n",
       "      <td>0.0</td>\n",
       "      <td>SU5X14319082</td>\n",
       "      <td>SU</td>\n",
       "      <td>5</td>\n",
       "      <td>39.520</td>\n",
       "      <td>73.720</td>\n",
       "      <td>NE</td>\n",
       "      <td>NE</td>\n",
       "      <td>1.0</td>\n",
       "      <td>4705.0</td>\n",
       "    </tr>\n",
       "    <tr>\n",
       "      <th>81559</th>\n",
       "      <td>81559</td>\n",
       "      <td>0.0</td>\n",
       "      <td>SU5X14319100</td>\n",
       "      <td>SU</td>\n",
       "      <td>5</td>\n",
       "      <td>39.600</td>\n",
       "      <td>73.930</td>\n",
       "      <td>N</td>\n",
       "      <td>N</td>\n",
       "      <td>1.0</td>\n",
       "      <td>4450.0</td>\n",
       "    </tr>\n",
       "    <tr>\n",
       "      <th>81560</th>\n",
       "      <td>81560</td>\n",
       "      <td>0.0</td>\n",
       "      <td>SU5X14320018</td>\n",
       "      <td>SU</td>\n",
       "      <td>5</td>\n",
       "      <td>38.030</td>\n",
       "      <td>71.470</td>\n",
       "      <td>E</td>\n",
       "      <td>E</td>\n",
       "      <td>1.0</td>\n",
       "      <td>4765.0</td>\n",
       "    </tr>\n",
       "    <tr>\n",
       "      <th>81561</th>\n",
       "      <td>81561</td>\n",
       "      <td>0.0</td>\n",
       "      <td>TF6C40302026</td>\n",
       "      <td>TF</td>\n",
       "      <td>6</td>\n",
       "      <td>-49.471</td>\n",
       "      <td>68.993</td>\n",
       "      <td>S</td>\n",
       "      <td>S</td>\n",
       "      <td>1.0</td>\n",
       "      <td>650.0</td>\n",
       "    </tr>\n",
       "    <tr>\n",
       "      <th>81562</th>\n",
       "      <td>81562</td>\n",
       "      <td>0.0</td>\n",
       "      <td>UG3B410A4005</td>\n",
       "      <td>UG</td>\n",
       "      <td>3</td>\n",
       "      <td>0.373</td>\n",
       "      <td>29.876</td>\n",
       "      <td>SW</td>\n",
       "      <td>SW</td>\n",
       "      <td>0.0</td>\n",
       "      <td>4760.0</td>\n",
       "    </tr>\n",
       "  </tbody>\n",
       "</table>\n",
       "<p>81563 rows × 11 columns</p>\n",
       "</div>"
      ],
      "text/plain": [
       "       index  tongue_activity    Glacier ID Country  continent_code     lat  \\\n",
       "0          0              0.0  AF5Q112B0009      AF               5  34.807   \n",
       "1          1              0.0  AF5Q112C0025      AF               5  35.438   \n",
       "2          2              0.0  AF5Q112C0085      AF               5  35.869   \n",
       "3          3              0.0  AF5Q112C0146      AF               5  35.458   \n",
       "4          4              0.0  AF5Q112C0151      AF               5  35.409   \n",
       "...      ...              ...           ...     ...             ...     ...   \n",
       "81558  81558              0.0  SU5X14319082      SU               5  39.520   \n",
       "81559  81559              0.0  SU5X14319100      SU               5  39.600   \n",
       "81560  81560              0.0  SU5X14320018      SU               5  38.030   \n",
       "81561  81561              0.0  TF6C40302026      TF               6 -49.471   \n",
       "81562  81562              0.0  UG3B410A4005      UG               3   0.373   \n",
       "\n",
       "          lon orientation_acc orientation_abl  source_nourish  mean_elev  \n",
       "0      68.891               N              NW             0.0     3925.0  \n",
       "1      69.552               S               S             0.0     4540.0  \n",
       "2      70.224              SW               W             0.0     4700.0  \n",
       "3      70.023              NW              NW             0.0     4113.0  \n",
       "4      69.959               N              NE             0.0     4550.0  \n",
       "...       ...             ...             ...             ...        ...  \n",
       "81558  73.720              NE              NE             1.0     4705.0  \n",
       "81559  73.930               N               N             1.0     4450.0  \n",
       "81560  71.470               E               E             1.0     4765.0  \n",
       "81561  68.993               S               S             1.0      650.0  \n",
       "81562  29.876              SW              SW             0.0     4760.0  \n",
       "\n",
       "[81563 rows x 11 columns]"
      ]
     },
     "execution_count": 5,
     "metadata": {},
     "output_type": "execute_result"
    }
   ],
   "source": [
    "data_chain = (data.rename(columns={'wgi_glacier_id':'Glacier ID','political_unit':'Country'})\n",
    "       .dropna(subset = ['tongue_activity','mean_elev'])\n",
    "       .reset_index()\n",
    "       )\n",
    "data_chain_2 = (data_chain\n",
    "       .loc[:,['tongue_activity','Glacier ID','Country','continent_code','lat','lon','orientation_acc','orientation_abl','source_nourish','mean_elev']]\n",
    "       .reset_index()\n",
    "       )\n",
    "data_chain_2"
   ]
  },
  {
   "cell_type": "code",
   "execution_count": 13,
   "metadata": {},
   "outputs": [
    {
     "ename": "NameError",
     "evalue": "name 'data_chain_1' is not defined",
     "output_type": "error",
     "traceback": [
      "\u001b[1;31m---------------------------------------------------------------------------\u001b[0m",
      "\u001b[1;31mNameError\u001b[0m                                 Traceback (most recent call last)",
      "\u001b[1;32m<ipython-input-13-9ef4fe3a6c7c>\u001b[0m in \u001b[0;36m<module>\u001b[1;34m\u001b[0m\n\u001b[0;32m      5\u001b[0m      \u001b[1;33m.\u001b[0m\u001b[0mreset_index\u001b[0m\u001b[1;33m(\u001b[0m\u001b[1;33m)\u001b[0m\u001b[1;33m\u001b[0m\u001b[1;33m\u001b[0m\u001b[0m\n\u001b[0;32m      6\u001b[0m     )\n\u001b[1;32m----> 7\u001b[1;33m data_chain_2 = (data_chain_1.loc[:,['tongue_activity','Glacier ID','Country','continent_code','lat','lon','orientation_acc','orientation_abl','source_nourish','mean_elev']]\n\u001b[0m\u001b[0;32m      8\u001b[0m        \u001b[1;33m.\u001b[0m\u001b[0mreset_index\u001b[0m\u001b[1;33m(\u001b[0m\u001b[1;33m)\u001b[0m\u001b[1;33m\u001b[0m\u001b[1;33m\u001b[0m\u001b[0m\n\u001b[0;32m      9\u001b[0m        )\n",
      "\u001b[1;31mNameError\u001b[0m: name 'data_chain_1' is not defined"
     ]
    }
   ],
   "source": [
    "def Procces(path):\n",
    "    data_chain_1 = (p.read_csv(path,encoding = 'ANSI')\n",
    "     .rename(columns={'wgi_glacier_id':'Glacier ID','political_unit':'Country'})\n",
    "     .dropna(subset = ['tongue_activity','mean_elev'])\n",
    "     .reset_index()\n",
    "    )\n",
    "data_chain_2 = (data_chain_1.loc[:,['tongue_activity','Glacier ID','Country','continent_code','lat','lon','orientation_acc','orientation_abl','source_nourish','mean_elev']]\n",
    "       .reset_index()\n",
    "       )\n",
    "return data_chain_2 "
   ]
  },
  {
   "cell_type": "code",
   "execution_count": 14,
   "metadata": {},
   "outputs": [
    {
     "ename": "NameError",
     "evalue": "name 'procces' is not defined",
     "output_type": "error",
     "traceback": [
      "\u001b[1;31m---------------------------------------------------------------------------\u001b[0m",
      "\u001b[1;31mNameError\u001b[0m                                 Traceback (most recent call last)",
      "\u001b[1;32m<ipython-input-14-59690081e11b>\u001b[0m in \u001b[0;36m<module>\u001b[1;34m\u001b[0m\n\u001b[1;32m----> 1\u001b[1;33m \u001b[0mprocces\u001b[0m\u001b[1;33m(\u001b[0m\u001b[1;34m'ftp://sidads.colorado.edu/pub/DATASETS/NOAA/G01130/wgi_feb2012.csv'\u001b[0m\u001b[1;33m)\u001b[0m\u001b[1;33m\u001b[0m\u001b[1;33m\u001b[0m\u001b[0m\n\u001b[0m",
      "\u001b[1;31mNameError\u001b[0m: name 'procces' is not defined"
     ]
    }
   ],
   "source": [
    "procces('ftp://sidads.colorado.edu/pub/DATASETS/NOAA/G01130/wgi_feb2012.csv').head()"
   ]
  },
  {
   "cell_type": "code",
   "execution_count": null,
   "metadata": {},
   "outputs": [],
   "source": []
  }
 ],
 "metadata": {
  "kernelspec": {
   "display_name": "Python 3",
   "language": "python",
   "name": "python3"
  },
  "language_info": {
   "codemirror_mode": {
    "name": "ipython",
    "version": 3
   },
   "file_extension": ".py",
   "mimetype": "text/x-python",
   "name": "python",
   "nbconvert_exporter": "python",
   "pygments_lexer": "ipython3",
   "version": "3.8.3"
  }
 },
 "nbformat": 4,
 "nbformat_minor": 4
}
